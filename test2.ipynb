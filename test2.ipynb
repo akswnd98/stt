{
 "cells": [
  {
   "cell_type": "code",
   "execution_count": 3,
   "metadata": {},
   "outputs": [
    {
     "data": {
      "text/plain": [
       "<tf.Tensor: shape=(2, 6), dtype=int32, numpy=\n",
       "array([[0, 0, 0, 0, 0, 0],\n",
       "       [0, 0, 0, 0, 0, 0]])>"
      ]
     },
     "execution_count": 3,
     "metadata": {},
     "output_type": "execute_result"
    }
   ],
   "source": [
    "import tensorflow as tf\n",
    "\n",
    "tf.tile(tf.constant([[0, 0]]), [2, 3])"
   ]
  },
  {
   "cell_type": "code",
   "execution_count": 12,
   "metadata": {},
   "outputs": [
    {
     "data": {
      "text/plain": [
       "TensorShape([4, 100, 10, 300])"
      ]
     },
     "execution_count": 12,
     "metadata": {},
     "output_type": "execute_result"
    }
   ],
   "source": [
    "import tensorflow as tf\n",
    "\n",
    "a = tf.zeros((4, 10), tf.int32)\n",
    "a = tf.expand_dims(a, axis=1)\n",
    "a = tf.one_hot(a, 300, axis=-1)\n",
    "a = tf.repeat(a, 100, axis=1)\n",
    "a.shape"
   ]
  },
  {
   "cell_type": "code",
   "execution_count": 15,
   "metadata": {},
   "outputs": [
    {
     "name": "stdout",
     "output_type": "stream",
     "text": [
      "tf.Tensor(\n",
      "[[[[0. 1. 0. 0. 0.]\n",
      "   [0. 0. 0. 1. 0.]\n",
      "   [0. 0. 1. 0. 0.]]\n",
      "\n",
      "  [[0. 1. 0. 0. 0.]\n",
      "   [0. 0. 0. 1. 0.]\n",
      "   [0. 0. 1. 0. 0.]]\n",
      "\n",
      "  [[0. 1. 0. 0. 0.]\n",
      "   [0. 0. 0. 1. 0.]\n",
      "   [0. 0. 1. 0. 0.]]\n",
      "\n",
      "  [[0. 1. 0. 0. 0.]\n",
      "   [0. 0. 0. 1. 0.]\n",
      "   [0. 0. 1. 0. 0.]]\n",
      "\n",
      "  [[0. 1. 0. 0. 0.]\n",
      "   [0. 0. 0. 1. 0.]\n",
      "   [0. 0. 1. 0. 0.]]\n",
      "\n",
      "  [[0. 1. 0. 0. 0.]\n",
      "   [0. 0. 0. 1. 0.]\n",
      "   [0. 0. 1. 0. 0.]]\n",
      "\n",
      "  [[0. 1. 0. 0. 0.]\n",
      "   [0. 0. 0. 1. 0.]\n",
      "   [0. 0. 1. 0. 0.]]\n",
      "\n",
      "  [[0. 1. 0. 0. 0.]\n",
      "   [0. 0. 0. 1. 0.]\n",
      "   [0. 0. 1. 0. 0.]]\n",
      "\n",
      "  [[0. 1. 0. 0. 0.]\n",
      "   [0. 0. 0. 1. 0.]\n",
      "   [0. 0. 1. 0. 0.]]\n",
      "\n",
      "  [[0. 1. 0. 0. 0.]\n",
      "   [0. 0. 0. 1. 0.]\n",
      "   [0. 0. 1. 0. 0.]]]\n",
      "\n",
      "\n",
      " [[[0. 0. 0. 0. 1.]\n",
      "   [0. 1. 0. 0. 0.]\n",
      "   [0. 0. 0. 1. 0.]]\n",
      "\n",
      "  [[0. 0. 0. 0. 1.]\n",
      "   [0. 1. 0. 0. 0.]\n",
      "   [0. 0. 0. 1. 0.]]\n",
      "\n",
      "  [[0. 0. 0. 0. 1.]\n",
      "   [0. 1. 0. 0. 0.]\n",
      "   [0. 0. 0. 1. 0.]]\n",
      "\n",
      "  [[0. 0. 0. 0. 1.]\n",
      "   [0. 1. 0. 0. 0.]\n",
      "   [0. 0. 0. 1. 0.]]\n",
      "\n",
      "  [[0. 0. 0. 0. 1.]\n",
      "   [0. 1. 0. 0. 0.]\n",
      "   [0. 0. 0. 1. 0.]]\n",
      "\n",
      "  [[0. 0. 0. 0. 1.]\n",
      "   [0. 1. 0. 0. 0.]\n",
      "   [0. 0. 0. 1. 0.]]\n",
      "\n",
      "  [[0. 0. 0. 0. 1.]\n",
      "   [0. 1. 0. 0. 0.]\n",
      "   [0. 0. 0. 1. 0.]]\n",
      "\n",
      "  [[0. 0. 0. 0. 1.]\n",
      "   [0. 1. 0. 0. 0.]\n",
      "   [0. 0. 0. 1. 0.]]\n",
      "\n",
      "  [[0. 0. 0. 0. 1.]\n",
      "   [0. 1. 0. 0. 0.]\n",
      "   [0. 0. 0. 1. 0.]]\n",
      "\n",
      "  [[0. 0. 0. 0. 1.]\n",
      "   [0. 1. 0. 0. 0.]\n",
      "   [0. 0. 0. 1. 0.]]]], shape=(2, 10, 3, 5), dtype=float32)\n"
     ]
    }
   ],
   "source": [
    "import tensorflow as tf\n",
    "\n",
    "a = tf.constant([[1, 3, 2], [4, 1, 3]], dtype=tf.int32)\n",
    "a = tf.one_hot(a, 5)\n",
    "a = tf.expand_dims(a, axis=1)\n",
    "a = tf.repeat(a, 10, axis=1)\n",
    "print(a)"
   ]
  },
  {
   "cell_type": "code",
   "execution_count": 19,
   "metadata": {},
   "outputs": [
    {
     "data": {
      "text/plain": [
       "<tf.Tensor: shape=(6,), dtype=float32, numpy=array([1., 1., 1., 0., 0., 0.], dtype=float32)>"
      ]
     },
     "execution_count": 19,
     "metadata": {},
     "output_type": "execute_result"
    }
   ],
   "source": [
    "import tensorflow as tf\n",
    "\n",
    "tf.sequence_mask(3, 6, dtype=tf.float32)"
   ]
  },
  {
   "cell_type": "code",
   "execution_count": 31,
   "metadata": {},
   "outputs": [
    {
     "data": {
      "text/plain": [
       "<tf.Tensor: shape=(1,), dtype=int32, numpy=array([1])>"
      ]
     },
     "execution_count": 31,
     "metadata": {},
     "output_type": "execute_result"
    }
   ],
   "source": [
    "import tensorflow as tf\n",
    "from tensorflow.python.ops.gen_array_ops import matrix_diag_part_v3\n",
    "\n",
    "tf.linalg.diag_part(tf.constant([[1], [2], [3]]), k=[0, 0], padding_value=0)"
   ]
  },
  {
   "cell_type": "code",
   "execution_count": 44,
   "metadata": {},
   "outputs": [
    {
     "data": {
      "text/plain": [
       "'0xc774'"
      ]
     },
     "execution_count": 44,
     "metadata": {},
     "output_type": "execute_result"
    }
   ],
   "source": [
    "hex(ord('이'))"
   ]
  }
 ],
 "metadata": {
  "kernelspec": {
   "display_name": "base",
   "language": "python",
   "name": "python3"
  },
  "language_info": {
   "codemirror_mode": {
    "name": "ipython",
    "version": 3
   },
   "file_extension": ".py",
   "mimetype": "text/x-python",
   "name": "python",
   "nbconvert_exporter": "python",
   "pygments_lexer": "ipython3",
   "version": "3.9.13 (main, Aug 25 2022, 23:51:50) [MSC v.1916 64 bit (AMD64)]"
  },
  "orig_nbformat": 4,
  "vscode": {
   "interpreter": {
    "hash": "ec62f2ec7c7d49224ec335e3ef472b8ef537dc7949933ed74784e8710c2a92fb"
   }
  }
 },
 "nbformat": 4,
 "nbformat_minor": 2
}
